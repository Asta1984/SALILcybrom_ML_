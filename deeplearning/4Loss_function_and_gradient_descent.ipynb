{
  "nbformat": 4,
  "nbformat_minor": 0,
  "metadata": {
    "colab": {
      "provenance": []
    },
    "kernelspec": {
      "name": "python3",
      "display_name": "Python 3"
    },
    "language_info": {
      "name": "python"
    }
  },
  "cells": [
    {
      "cell_type": "markdown",
      "source": [
        "# **Context for todays class**\n",
        "Topics covered\n",
        "First we look at what linear regression is, then we define the loss function. We learn how the gradient descent algorithm works and finally we will implement it on a given data set and make predictions.\n",
        "1. Cost/Loss function `(MSE, RMSE)`\n",
        "2. Gradient Descent algorithmn\n",
        "3. Learning Rate\n",
        "\n",
        "<img src=\"https://doimages.nyc3.cdn.digitaloceanspaces.com/010AI-ML/content/images/2018/05/challenges-1.png\">"
      ],
      "metadata": {
        "id": "F7gr3ubIowat"
      }
    },
    {
      "cell_type": "markdown",
      "source": [
        "**Gradient descent is a optimization algorithmn used in linear regression to find the best fit line to data. It work by gradually adjusting slope and intercept of line to reduce the difference between predicted values and actual target values.**"
      ],
      "metadata": {
        "id": "NdywNxTNmvak"
      }
    },
    {
      "cell_type": "markdown",
      "source": [
        "# **Loss Function**\n",
        "In deep learning, loss functions help models determine how wrong it is and improve itself based on that wrongness. They are mathematical functions that quantify the difference between predicted and actual values in a machine learning model, but this isn’t all they do.\n",
        "\n",
        "* Loss function is also referred to as cost function or error function.\n",
        "\n",
        "* A loss function quantifies how well a model performs during training phase.\n",
        "\n",
        "* The loss function estimates how well a particular algorithm models the provided data. Loss functions are classified into two classes based on the type of learning task\n",
        "\n",
        "* The inputs are the predictions from the model as well as the ground truths and the output is some number known as the loss. The loss quantifies how good or bad the the prediction of the model was.\n",
        "\n",
        "* Therefore, depending on the type of problem, the loss function could be anything."
      ],
      "metadata": {
        "id": "t1BgoLb3F6_K"
      }
    },
    {
      "cell_type": "markdown",
      "source": [
        "# **As we know loss function or cost function is mathematically represented as `(Ypred - Yactual)`**\n",
        "\n",
        "Here yᵢ is the actual value and ȳᵢ is the predicted value. Lets substitute the value of ȳᵢ:\n",
        "\n"
      ],
      "metadata": {
        "id": "Dhsb-k7Qn9m2"
      }
    },
    {
      "cell_type": "markdown",
      "source": [
        "# **Cost Function**\n",
        "\n",
        "<img src=\"https://pub-0e72c0a148e1456eadfe14d9e2e3c5ab.r2.dev/cost%20function.JPG\">\n",
        "\n",
        "\n"
      ],
      "metadata": {
        "id": "w0osgRgPBsg0"
      }
    },
    {
      "cell_type": "markdown",
      "source": [
        "##**Gradient Descent Algorithmn**\n",
        "For the sake of simplicity, let us assume our network has only two parameters. In practice, this number would be around a billion, but we’ll still stick to the two-parameter example throughout the post to not drive ourselves nuts while trying to visualize things. The contour of a very nice loss function may look like this."
      ],
      "metadata": {
        "id": "b5F3ItddQUBW"
      }
    },
    {
      "cell_type": "markdown",
      "source": [
        "<img src=\"https://doimages.nyc3.cdn.digitaloceanspaces.com/010AI-ML/content/images/2018/05/68747470733a2f2f707669676965722e6769746875622e696f2f6d656469612f696d672f70617274312f6772616469656e745f64657363656e742e676966.gif\">"
      ],
      "metadata": {
        "id": "tTd2vp8GFXVE"
      }
    },
    {
      "cell_type": "markdown",
      "source": [
        "# **Gradient Descent Algorithmn from scratch**"
      ],
      "metadata": {
        "id": "XbwV3eh5HfNp"
      }
    },
    {
      "cell_type": "code",
      "source": [
        "import numpy as np\n",
        "import pandas as pd\n",
        "import matplotlib.pyplot as plt\n",
        "data = np.random.rayleigh(3,200)\n",
        "data = data.reshape(100,2)\n",
        "data = pd.DataFrame(data)\n",
        "\n",
        "\n",
        "X = data.iloc[:, 0]\n",
        "Y = data.iloc[:, 1]\n",
        "plt.scatter(X, Y, edgecolors=\"k\")\n",
        "plt.show()"
      ],
      "metadata": {
        "colab": {
          "base_uri": "https://localhost:8080/",
          "height": 430
        },
        "id": "yaPQxzxy6zrk",
        "outputId": "2ca45a6e-6eec-41ad-9d50-974808e267b4"
      },
      "execution_count": null,
      "outputs": [
        {
          "output_type": "display_data",
          "data": {
            "text/plain": [
              "<Figure size 640x480 with 1 Axes>"
            ],
            "image/png": "[encoded data removed]"
          },
          "metadata": {}
        }
      ]
    },
    {
      "cell_type": "code",
      "source": [
        "m = 0\n",
        "c = 0\n",
        "\n",
        "L = 0.01  # The learning Rate\n",
        "epochs = 10000  # The number of iterations to perform gradient descent\n",
        "\n",
        "n = float(len(X)) # Number of elements in X\n",
        "\n",
        "# Performing Gradient Descent\n",
        "for i in range(epochs):\n",
        "    Y_pred = m*X + c  # The current predicted value of Y\n",
        "    D_m = (-2/n) * sum(X * (Y - Y_pred))  # Derivative wrt m\n",
        "    D_c = (-2/n) * sum(Y - Y_pred)  # Derivative wrt c\n",
        "    m = m - L * D_m  # Update m\n",
        "    c = c - L * D_c  # Update c\n",
        "\n",
        "print (m, c)"
      ],
      "metadata": {
        "colab": {
          "base_uri": "https://localhost:8080/"
        },
        "id": "O6M1xWeU9PZu",
        "outputId": "5f638479-de05-4579-aa12-24998faa0f1e"
      },
      "execution_count": null,
      "outputs": [
        {
          "output_type": "stream",
          "name": "stdout",
          "text": [
            "0.11055376342163464 3.1289678207366536\n"
          ]
        }
      ]
    },
    {
      "cell_type": "code",
      "source": [
        "Y_pred = m*X + c\n",
        "\n",
        "plt.scatter(X, Y)\n",
        "plt.plot([min(X), max(X)], [min(Y_pred), max(Y_pred)], color='red')  # regression line\n",
        "plt.show()"
      ],
      "metadata": {
        "colab": {
          "base_uri": "https://localhost:8080/",
          "height": 430
        },
        "id": "_fdJn90i9h76",
        "outputId": "9b67a1ae-1d7c-4870-b1ca-ca27c66b21f8"
      },
      "execution_count": null,
      "outputs": [
        {
          "output_type": "display_data",
          "data": {
            "text/plain": [
              "<Figure size 640x480 with 1 Axes>"
            ],
            "image/png": "[encoded data removed]"
          },
          "metadata": {}
        }
      ]
    },
    {
      "cell_type": "markdown",
      "source": [
        "# **#Gradient Descent Algorithmn**"
      ],
      "metadata": {
        "id": "sThCnN7kNCjJ"
      }
    },
    {
      "cell_type": "code",
      "source": [
        "from sklearn.datasets import load_breast_cancer\n",
        "features , target = load_breast_cancer(return_X_y=True)\n",
        "\n",
        "from sklearn.model_selection import train_test_split\n",
        "X_train, X_test, y_train, y_test = train_test_split(features, target, test_size=0.22, random_state=42)\n",
        "\n",
        "from sklearn.linear_model import SGDRegressor\n",
        "reg = SGDRegressor(max_iter=1000,learning_rate='constant',eta0=0.01)\n",
        "reg.fit(X_train, y_train)\n",
        "y_pred = reg.predict(X_test)\n",
        "\n",
        "from sklearn.metrics import r2_score\n",
        "r2_score(y_test,y_pred)\n",
        "reg.coef_, reg.intercept_"
      ],
      "metadata": {
        "colab": {
          "base_uri": "https://localhost:8080/"
        },
        "id": "FOB9j1iI25-b",
        "outputId": "947e56cf-b4a1-482e-f2bc-39824d4f6c02"
      },
      "execution_count": null,
      "outputs": [
        {
          "output_type": "execute_result",
          "data": {
            "text/plain": [
              "(array([-1.95693076e+11, -3.00937206e+11, -1.47669260e+12, -1.48910671e+12,\n",
              "        -1.54926190e+10, -2.26183021e+10,  2.15863019e+10,  9.94395813e+08,\n",
              "        -2.99115784e+10, -7.98742972e+09, -4.93962853e+10, -1.17256040e+11,\n",
              "        -2.20090840e+11, -1.28309950e+13, -8.66726904e+08,  1.19654690e+09,\n",
              "         2.65170107e+10,  2.20665855e+09,  2.76680366e+08, -4.07947431e+07,\n",
              "        -1.16534570e+10, -1.66634055e+12,  1.76138185e+12, -1.88550083e+11,\n",
              "        -3.20334371e+10, -6.35252235e+10,  1.29096880e+10, -2.16224091e+10,\n",
              "         5.45407857e+09, -1.22833549e+10]),\n",
              " array([-6.0151637e+10]))"
            ]
          },
          "metadata": {},
          "execution_count": 15
        }
      ]
    },
    {
      "cell_type": "markdown",
      "source": [
        "##**Gradient Descent TensorFlow**\n",
        "This example uses Mean Squared Error as the loss function and Stochastic Gradient Descent as the optimizer.\n",
        "\n",
        "\n",
        "docs https://keras.io/2/api/losses/\n",
        "\n"
      ],
      "metadata": {
        "id": "9JLmGgNcZNr7"
      }
    },
    {
      "cell_type": "code",
      "source": [
        "import tensorflow as tf\n",
        "\n",
        "X = tf.random.normal((100, 10))\n",
        "y = tf.random.normal((100, 1))\n",
        "\n",
        "model = tf.keras.Sequential([tf.keras.layers.Dense(1)])\n",
        "\n",
        "# Compile with loss function & optimizer\n",
        "model.compile(optimizer=tf.keras.optimizers.SGD(learning_rate=0.01), loss='mean_squared_error')\n",
        "\n",
        "model.fit(X, y, epochs=10, batch_size=8)"
      ],
      "metadata": {
        "colab": {
          "base_uri": "https://localhost:8080/"
        },
        "id": "RlXvlOthaRkU",
        "outputId": "f62ce0fd-5b26-434e-cd51-6a12af90459b"
      },
      "execution_count": null,
      "outputs": [
        {
          "output_type": "stream",
          "name": "stdout",
          "text": [
            "Epoch 1/10\n",
            "\u001b[1m13/13\u001b[0m \u001b[32m━━━━━━━━━━━━━━━━━━━━\u001b[0m\u001b[37m\u001b[0m \u001b[1m0s\u001b[0m 2ms/step - loss: 1.9707  \n",
            "Epoch 2/10\n",
            "\u001b[1m13/13\u001b[0m \u001b[32m━━━━━━━━━━━━━━━━━━━━\u001b[0m\u001b[37m\u001b[0m \u001b[1m0s\u001b[0m 2ms/step - loss: 1.4610 \n",
            "Epoch 3/10\n",
            "\u001b[1m13/13\u001b[0m \u001b[32m━━━━━━━━━━━━━━━━━━━━\u001b[0m\u001b[37m\u001b[0m \u001b[1m0s\u001b[0m 2ms/step - loss: 1.1799 \n",
            "Epoch 4/10\n",
            "\u001b[1m13/13\u001b[0m \u001b[32m━━━━━━━━━━━━━━━━━━━━\u001b[0m\u001b[37m\u001b[0m \u001b[1m0s\u001b[0m 2ms/step - loss: 0.8039 \n",
            "Epoch 5/10\n",
            "\u001b[1m13/13\u001b[0m \u001b[32m━━━━━━━━━━━━━━━━━━━━\u001b[0m\u001b[37m\u001b[0m \u001b[1m0s\u001b[0m 2ms/step - loss: 0.9165 \n",
            "Epoch 6/10\n",
            "\u001b[1m13/13\u001b[0m \u001b[32m━━━━━━━━━━━━━━━━━━━━\u001b[0m\u001b[37m\u001b[0m \u001b[1m0s\u001b[0m 3ms/step - loss: 0.7260 \n",
            "Epoch 7/10\n",
            "\u001b[1m13/13\u001b[0m \u001b[32m━━━━━━━━━━━━━━━━━━━━\u001b[0m\u001b[37m\u001b[0m \u001b[1m0s\u001b[0m 2ms/step - loss: 0.5995 \n",
            "Epoch 8/10\n",
            "\u001b[1m13/13\u001b[0m \u001b[32m━━━━━━━━━━━━━━━━━━━━\u001b[0m\u001b[37m\u001b[0m \u001b[1m0s\u001b[0m 2ms/step - loss: 0.4987 \n",
            "Epoch 9/10\n",
            "\u001b[1m13/13\u001b[0m \u001b[32m━━━━━━━━━━━━━━━━━━━━\u001b[0m\u001b[37m\u001b[0m \u001b[1m0s\u001b[0m 2ms/step - loss: 0.6016 \n",
            "Epoch 10/10\n",
            "\u001b[1m13/13\u001b[0m \u001b[32m━━━━━━━━━━━━━━━━━━━━\u001b[0m\u001b[37m\u001b[0m \u001b[1m0s\u001b[0m 2ms/step - loss: 0.7000 \n"
          ]
        },
        {
          "output_type": "execute_result",
          "data": {
            "text/plain": [
              "<keras.src.callbacks.history.History at 0x791713643710>"
            ]
          },
          "metadata": {},
          "execution_count": 29
        }
      ]
    },
    {
      "cell_type": "code",
      "source": [],
      "metadata": {
        "id": "KWzshnzya7KW"
      },
      "execution_count": null,
      "outputs": []
    }
  ]
}