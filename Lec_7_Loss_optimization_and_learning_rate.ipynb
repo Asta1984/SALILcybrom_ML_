{
  "cells": [
    {
      "cell_type": "markdown",
      "metadata": {
        "id": "F7gr3ubIowat"
      },
      "source": [
        "# **Context for todays class**\n",
        "Topics covered\n",
        "First we look at what linear regression is, then we define the loss function. We learn how the gradient descent algorithm works and finally we will implement it on a given data set and make predictions.\n",
        "1. Cost/Loss function `(MSE, RMSE)`\n",
        "2. Gradient Descent algorithmn\n",
        "3. Learning Rate"
      ]
    },
    {
      "cell_type": "markdown",
      "metadata": {
        "id": "b5F3ItddQUBW"
      },
      "source": [
        "# **#Gradient Descent Algorithmn**"
      ]
    },
    {
      "cell_type": "markdown",
      "metadata": {
        "id": "tTd2vp8GFXVE"
      },
      "source": [
        "<img src=\"https://miro.medium.com/v2/resize:fit:1100/format:webp/1*CjTBNFUEI_IokEOXJ00zKw.gif\">"
      ]
    },
    {
      "cell_type": "markdown",
      "metadata": {
        "id": "NdywNxTNmvak"
      },
      "source": [
        "**Gradient descent is a optimization algorithmn used in linear regression to find the best fit line to data. It work by gradually adjusting slope and intercept of line to reduce the difference between predicted values and actual target values.**"
      ]
    },
    {
      "cell_type": "markdown",
      "metadata": {
        "id": "t1BgoLb3F6_K"
      },
      "source": [
        "# **Loss Function**\n",
        "The loss is the error in our predicted value of m and c. Our goal is to minimize this error to obtain the most accurate value of m and c.\n",
        "\n",
        "We will use the Mean Squared Error function to calculate the loss. There are three steps in this function:\n",
        "\n",
        "1. Find the difference between the actual y and predicted y value(y = mx + c), for a given x.\n",
        "\n",
        "2. Square this difference.\n",
        "\n",
        "3. Find the mean of the squares for every value in X.\n"
      ]
    },
    {
      "cell_type": "markdown",
      "metadata": {
        "id": "Dhsb-k7Qn9m2"
      },
      "source": [
        "# **As we know loss function or cost function is mathematically represented as `(Ypred - Yactual)`**\n",
        "<img src=\"https://miro.medium.com/v2/resize:fit:600/format:webp/1*_y5QA1yF4w6LDDRxfTt6GA.jpeg\">\n",
        "\n",
        "Here yᵢ is the actual value and ȳᵢ is the predicted value. Lets substitute the value of ȳᵢ:\n",
        "\n",
        "So we square the error and find the mean. hence the name Mean Squared Error. Now that we have defined the loss function, lets get into the interesting part — minimizing it and finding m and c."
      ]
    },
    {
      "cell_type": "markdown",
      "metadata": {
        "id": "_-E7CM67LV1W"
      },
      "source": [
        "Let’s try applying gradient descent to m and c and approach it step by step:\n",
        "\n",
        "1. Initially let m = 0 and c = 0. Let L be our learning rate. This controls how much the value of m changes with each step. L could be a small value like 0.0001 for good accuracy.\n",
        "\n",
        "2. Calculate the partial derivative of the loss function with respect to m, and plug in the current values of x, y, m and c in it to obtain the derivative value D.\n",
        "\n",
        "<img src = \"https://miro.medium.com/v2/resize:fit:640/format:webp/1*FvYfCBrl2gX9K-KxSO1eIw.jpeg\">\n",
        "\n",
        "3. Dₘ is the value of the partial derivative with respect to m. Similarly lets find the partial derivative with respect to c, Dc :\n",
        "\n",
        "\n",
        "<img src=\"https://miro.medium.com/v2/resize:fit:600/format:webp/1*rj09w2TcBxnHPtQ0oq4ehA.jpeg\">\n",
        "\n",
        "4.  Now we update the current value of m and c using the following equation:\n",
        "<img src=\"https://miro.medium.com/v2/resize:fit:600/format:webp/1*JDcHqFK8jLcgQu1cj2XuVQ.jpeg\">\n",
        "\n",
        "5. We repeat this process until our loss function is a very small value or ideally 0 (which means 0 error or 100% accuracy). The value of m and c that we are left with now will be the optimum values."
      ]
    },
    {
      "cell_type": "markdown",
      "metadata": {
        "id": "XbwV3eh5HfNp"
      },
      "source": [
        "# **Gradient Descent Algorithmn from scratch**"
      ]
    },
    {
      "cell_type": "code",
      "execution_count": null,
      "metadata": {
        "colab": {
          "base_uri": "https://localhost:8080/",
          "height": 430
        },
        "id": "yaPQxzxy6zrk",
        "outputId": "069252c9-d12d-4c13-ef02-9823bf249f64"
      },
      "outputs": [
        {
          "data": {
            "image/png": "[encoded data removed]",
            "text/plain": [
              "<Figure size 640x480 with 1 Axes>"
            ]
          },
          "metadata": {},
          "output_type": "display_data"
        }
      ],
      "source": [
        "import numpy as np\n",
        "import pandas as pd\n",
        "import matplotlib.pyplot as plt\n",
        "data = np.random.rayleigh(3,200)\n",
        "data = data.reshape(100,2)\n",
        "data = pd.DataFrame(data)\n",
        "\n",
        "\n",
        "X = data.iloc[:, 0]\n",
        "Y = data.iloc[:, 1]\n",
        "plt.scatter(X, Y)\n",
        "plt.show()"
      ]
    },
    {
      "cell_type": "code",
      "execution_count": null,
      "metadata": {
        "colab": {
          "base_uri": "https://localhost:8080/"
        },
        "id": "O6M1xWeU9PZu",
        "outputId": "ee720ad8-2a5c-4eb8-a4b2-f8645c0936b8"
      },
      "outputs": [
        {
          "name": "stdout",
          "output_type": "stream",
          "text": [
            "-0.03463734089326847 3.8056408335146408\n"
          ]
        }
      ],
      "source": [
        "m = 0\n",
        "c = 0\n",
        "\n",
        "L = 0.01  # The learning Rate\n",
        "epochs = 10000  # The number of iterations to perform gradient descent\n",
        "\n",
        "n = float(len(X)) # Number of elements in X\n",
        "\n",
        "# Performing Gradient Descent\n",
        "for i in range(epochs):\n",
        "    Y_pred = m*X + c  # The current predicted value of Y\n",
        "    D_m = (-2/n) * sum(X * (Y - Y_pred))  # Derivative wrt m\n",
        "    D_c = (-2/n) * sum(Y - Y_pred)  # Derivative wrt c\n",
        "    m = m - L * D_m  # Update m\n",
        "    c = c - L * D_c  # Update c\n",
        "\n",
        "print (m, c)"
      ]
    },
    {
      "cell_type": "code",
      "execution_count": null,
      "metadata": {
        "colab": {
          "base_uri": "https://localhost:8080/",
          "height": 430
        },
        "id": "_fdJn90i9h76",
        "outputId": "5c390c52-cdb1-493f-bf7f-4bf870737d97"
      },
      "outputs": [
        {
          "data": {
            "image/png": "[encoded data removed]",
            "text/plain": [
              "<Figure size 640x480 with 1 Axes>"
            ]
          },
          "metadata": {},
          "output_type": "display_data"
        }
      ],
      "source": [
        "Y_pred = m*X + c\n",
        "\n",
        "plt.scatter(X, Y)\n",
        "plt.plot([min(X), max(X)], [min(Y_pred), max(Y_pred)], color='red')  # regression line\n",
        "plt.show()"
      ]
    },
    {
      "cell_type": "markdown",
      "metadata": {
        "id": "bBchWVnAKVTj"
      },
      "source": [
        "# **Extra's...**"
      ]
    },
    {
      "cell_type": "code",
      "execution_count": null,
      "metadata": {
        "id": "9bat_Wx43tCl"
      },
      "outputs": [],
      "source": [
        "from sklearn.datasets import load_diabetes\n",
        "import numpy as np\n",
        "from sklearn.linear_model import LinearRegression\n",
        "from sklearn.metrics import r2_score\n",
        "from sklearn.model_selection import train_test_split"
      ]
    },
    {
      "cell_type": "markdown",
      "metadata": {
        "id": "S8a6tWeZ3xst"
      },
      "source": [
        "# **Train test split in a dataset**"
      ]
    },
    {
      "cell_type": "code",
      "execution_count": null,
      "metadata": {
        "colab": {
          "base_uri": "https://localhost:8080/"
        },
        "id": "d-FOzzyQ3wQw",
        "outputId": "467f5bcd-0c1f-428c-f90c-b678853ed59a"
      },
      "outputs": [
        {
          "name": "stdout",
          "output_type": "stream",
          "text": [
            "(442, 10)\n",
            "(442,)\n"
          ]
        }
      ],
      "source": [
        "X,y = load_diabetes(return_X_y=True)\n",
        "print(X.shape)\n",
        "print(y.shape)\n",
        "X_train,X_test,y_train,y_test = train_test_split(X,y,test_size=0.2,random_state=2)"
      ]
    },
    {
      "cell_type": "markdown",
      "metadata": {
        "id": "H5YD9v1i1kPH"
      },
      "source": [
        "# **Fitting model to data**"
      ]
    },
    {
      "cell_type": "code",
      "execution_count": null,
      "metadata": {
        "colab": {
          "base_uri": "https://localhost:8080/"
        },
        "id": "veGjuCS74DZw",
        "outputId": "bf7d98cc-6d1c-4dd2-aeda-9d96fdaf120e"
      },
      "outputs": [
        {
          "data": {
            "text/plain": [
              "(array([  -9.15865318, -205.45432163,  516.69374454,  340.61999905,\n",
              "        -895.5520019 ,  561.22067904,  153.89310954,  126.73139688,\n",
              "         861.12700152,   52.42112238]),\n",
              " np.float64(151.88331005254167))"
            ]
          },
          "execution_count": 13,
          "metadata": {},
          "output_type": "execute_result"
        }
      ],
      "source": [
        "model = LinearRegression()\n",
        "model.fit(X_train,y_train)\n",
        "model.coef_, model.intercept_"
      ]
    },
    {
      "cell_type": "markdown",
      "metadata": {
        "id": "XG8JJWXa1sye"
      },
      "source": [
        "# ***Model perfomance metrics***\n",
        "The Coefficient of determination, also called R² score, is used to evaluate the performance of a linear regression model. It is the amount of the variation in the output dependent attribute that is predictable from the input independent variable(s). It is used to check how well-observed results are reproduced by the model, depending on the ratio of the total deviation of results described by the mode"
      ]
    },
    {
      "cell_type": "code",
      "execution_count": null,
      "metadata": {
        "colab": {
          "base_uri": "https://localhost:8080/"
        },
        "id": "hzdFb3pj4PNh",
        "outputId": "d63ae802-0468-40e0-b58e-1697cfa9b7e8"
      },
      "outputs": [
        {
          "data": {
            "text/plain": [
              "0.4399338661568968"
            ]
          },
          "execution_count": 14,
          "metadata": {},
          "output_type": "execute_result"
        }
      ],
      "source": [
        "y_pred = model.predict(X_test)\n",
        "r2_score(y_test,y_pred)"
      ]
    },
    {
      "cell_type": "markdown",
      "metadata": {
        "id": "l4jjHPubEqCf"
      },
      "source": [
        "#Cost calculation - Loss extimation"
      ]
    },
    {
      "cell_type": "code",
      "execution_count": null,
      "metadata": {
        "colab": {
          "base_uri": "https://localhost:8080/"
        },
        "id": "rcNd2onWEphz",
        "outputId": "e29c3240-f2b0-4754-b59c-0a6c5e2d3151"
      },
      "outputs": [
        {
          "data": {
            "text/plain": [
              "np.float64(55.627840795469155)"
            ]
          },
          "execution_count": 15,
          "metadata": {},
          "output_type": "execute_result"
        }
      ],
      "source": [
        "import numpy as np\n",
        "from sklearn.metrics import mean_squared_error\n",
        "MSE = mean_squared_error(y_pred, y_test)\n",
        "RMSE=np.sqrt(MSE)\n",
        "RMSE"
      ]
    },
    {
      "cell_type": "markdown",
      "metadata": {
        "id": "W1kQCdMd5FB3"
      },
      "source": [
        "#Gradient Descent method of scikit-learn"
      ]
    },
    {
      "cell_type": "code",
      "execution_count": null,
      "metadata": {
        "colab": {
          "base_uri": "https://localhost:8080/"
        },
        "id": "FOB9j1iI25-b",
        "outputId": "eb60c39e-7edd-455a-ba6b-a6aa3de980a1"
      },
      "outputs": [
        {
          "data": {
            "text/plain": [
              "(array([  47.84310008,  -91.20636237,  385.54720109,  268.17333782,\n",
              "           4.00148849,  -49.9688799 , -181.03203691,  124.9444893 ,\n",
              "         348.52952125,  125.31147086]),\n",
              " array([152.00578185]))"
            ]
          },
          "execution_count": 23,
          "metadata": {},
          "output_type": "execute_result"
        }
      ],
      "source": [
        "from sklearn.linear_model import SGDRegressor\n",
        "\n",
        "reg = SGDRegressor(max_iter=1000,learning_rate='constant',eta0=0.01)\n",
        "reg.fit(X_train,y_train)\n",
        "\n",
        "y_pred = reg.predict(X_test)\n",
        "r2_score(y_test,y_pred)\n",
        "reg.coef_, reg.intercept_"
      ]
    },
    {
      "cell_type": "code",
      "execution_count": null,
      "metadata": {
        "id": "0Zs1CBa15Azj"
      },
      "outputs": [],
      "source": []
    }
  ],
  "metadata": {
    "colab": {
      "gpuType": "T4",
      "provenance": []
    },
    "kernelspec": {
      "display_name": "Python 3",
      "name": "python3"
    },
    "language_info": {
      "name": "python"
    }
  },
  "nbformat": 4,
  "nbformat_minor": 0
}
